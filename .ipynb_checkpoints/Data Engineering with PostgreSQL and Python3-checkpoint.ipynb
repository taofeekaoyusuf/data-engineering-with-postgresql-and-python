{
 "cells": [
  {
   "cell_type": "markdown",
   "id": "046a9291-f9ba-4156-98f5-a6821c862730",
   "metadata": {},
   "source": [
    "# Data Engineering with PostgreSQL and Python3"
   ]
  },
  {
   "cell_type": "markdown",
   "id": "8772ce81-6f6b-4db5-abf4-22d3c43c915c",
   "metadata": {},
   "source": [
    "## Psycopg \n",
    "\n",
    "* It is the most popular PostgreSQL database adapter for the Python programming language. \n",
    "* Its main features are the complete implementation of the Python DB API 2.0 specification and the thread safety (several threads can share the same connection). \n",
    "* It was designed for heavily multi-threaded applications that create and destroy lots of cursors and make a large number of concurrent “INSERT”s or “UPDATE”s."
   ]
  },
  {
   "cell_type": "markdown",
   "id": "ef2abfc7-fb13-451c-9738-42d0d926762c",
   "metadata": {},
   "source": [
    "### Importing useful Libraries"
   ]
  },
  {
   "cell_type": "code",
   "execution_count": 1,
   "id": "58882b0f-1da3-4e02-8a77-3ed593266dd9",
   "metadata": {},
   "outputs": [],
   "source": [
    "import psycopg2 as pg\n",
    "import pandas as pd"
   ]
  },
  {
   "cell_type": "markdown",
   "id": "71c29c2a-d2d9-410f-9285-3a960f828eea",
   "metadata": {},
   "source": [
    "### Creating Database and Connection"
   ]
  },
  {
   "cell_type": "code",
   "execution_count": 2,
   "id": "d767d4bb-40db-48ef-abad-6c71df15969d",
   "metadata": {},
   "outputs": [],
   "source": [
    "def create_database_and_connection():\n",
    "    # Connecting to the default database\n",
    "    try:\n",
    "        conn = pg.connect(\n",
    "            \"host = localhost \\\n",
    "            dbname = test \\\n",
    "            user = postgres \\\n",
    "            password = Passdb\"\n",
    "    )\n",
    "    except pg.Error as e:\n",
    "        print(f\"\\n{e}\\nERROR: Could not connect to the Postgress Database\\n\")\n",
    "        \n",
    "    conn.set_session(autocommit=True)\n",
    "    \n",
    "    # Creating initial cursor\n",
    "    try:\n",
    "        cur = conn.cursor()\n",
    "    except pg.Error as e:\n",
    "        print(f\"\\n{e}\\nERROR: Could not make a cursor to the Postgress Database\\n\")\n",
    "    \n",
    "    # Drop if exists and create the Database\n",
    "    cur.execute(\"DROP DATABASE IF EXISTS account\")\n",
    "    cur.execute(\"CREATE DATABASE account\")\n",
    "    \n",
    "    # Closing connection to the default Database\n",
    "    try:\n",
    "        conn.close()\n",
    "    except pg.Error as e:\n",
    "        print(f\"\\n{e}\\nERROR: Cannot closed the connection to the former Database\")\n",
    "\n",
    "    # Initiating Connection to the created Database with a New Role\n",
    "    try:\n",
    "        conn = pg.connect(\"host=127.0.0.1 dbname=account user=computech password=Pass\")\n",
    "    except pg.Error as e:\n",
    "        print(f\"\\n{e}\\nERROR: Could not connect to the Database\\n\")\n",
    "\n",
    "    # Initiating a Cursor to the New Database\n",
    "    try:\n",
    "        cur = conn.cursor()\n",
    "    except pg.Error as e:\n",
    "        print(f\"\\n{e}\\nERROR: Could not make a cursor to the Database\\n\")\n",
    "\n",
    "    # Creating automatic commit\n",
    "    conn.set_session(autocommit=True)\n",
    "    \n",
    "    return cur, conn\n",
    "    \n",
    "    \n",
    "cur, conn = create_database_and_connection()\n",
    "    "
   ]
  },
  {
   "cell_type": "markdown",
   "id": "94b6e240-6b5a-469b-bd34-e7726494bd39",
   "metadata": {},
   "source": [
    "### Drop Table Function Operation"
   ]
  },
  {
   "cell_type": "code",
   "execution_count": 3,
   "id": "415f2d6a-3e90-4c84-9c1a-dad705bd24b9",
   "metadata": {},
   "outputs": [],
   "source": [
    "def drop_table(cur, conn):\n",
    "    for query in dt_query:\n",
    "        cur.execute(query)\n",
    "        conn.commit()"
   ]
  },
  {
   "cell_type": "markdown",
   "id": "320b0b4a-d24b-4908-bd3c-219d26a53c5f",
   "metadata": {},
   "source": [
    "### Create Table Function Operation"
   ]
  },
  {
   "cell_type": "code",
   "execution_count": 4,
   "id": "09232c28-d24e-48f1-b820-6d27058766ce",
   "metadata": {},
   "outputs": [],
   "source": [
    "def create_table(cur, conn):\n",
    "    for query in ct_query:\n",
    "        cur.execute(query)\n",
    "        conn.commit() "
   ]
  },
  {
   "cell_type": "markdown",
   "id": "105db67e-1afe-4ffe-8690-f6d5a70e962e",
   "metadata": {},
   "source": [
    "### Importing the Dataset"
   ]
  },
  {
   "cell_type": "code",
   "execution_count": 5,
   "id": "5254139d-b7c0-4a39-ad59-fee85b4463bb",
   "metadata": {},
   "outputs": [],
   "source": [
    "child_malnutrition = pd.read_csv(\"Childhood malnutrition.csv\")"
   ]
  },
  {
   "cell_type": "code",
   "execution_count": 6,
   "id": "be4d3a4b-b1f2-450f-aadf-fee1c75ad59a",
   "metadata": {},
   "outputs": [
    {
     "data": {
      "text/html": [
       "<div>\n",
       "<style scoped>\n",
       "    .dataframe tbody tr th:only-of-type {\n",
       "        vertical-align: middle;\n",
       "    }\n",
       "\n",
       "    .dataframe tbody tr th {\n",
       "        vertical-align: top;\n",
       "    }\n",
       "\n",
       "    .dataframe thead th {\n",
       "        text-align: right;\n",
       "    }\n",
       "</style>\n",
       "<table border=\"1\" class=\"dataframe\">\n",
       "  <thead>\n",
       "    <tr style=\"text-align: right;\">\n",
       "      <th></th>\n",
       "      <th>Entity</th>\n",
       "      <th>Code</th>\n",
       "      <th>Year</th>\n",
       "      <th>Prevalence of stunting, height for age (% of children under 5)</th>\n",
       "      <th>Prevalence of underweight, weight for age (% of children under 5)</th>\n",
       "      <th>Prevalence of wasting, weight for height (% of children under 5)</th>\n",
       "    </tr>\n",
       "  </thead>\n",
       "  <tbody>\n",
       "    <tr>\n",
       "      <th>0</th>\n",
       "      <td>Afghanistan</td>\n",
       "      <td>AFG</td>\n",
       "      <td>1997</td>\n",
       "      <td>53.2</td>\n",
       "      <td>44.9</td>\n",
       "      <td>18.2</td>\n",
       "    </tr>\n",
       "    <tr>\n",
       "      <th>1</th>\n",
       "      <td>Afghanistan</td>\n",
       "      <td>AFG</td>\n",
       "      <td>2004</td>\n",
       "      <td>59.3</td>\n",
       "      <td>32.9</td>\n",
       "      <td>8.6</td>\n",
       "    </tr>\n",
       "    <tr>\n",
       "      <th>2</th>\n",
       "      <td>Afghanistan</td>\n",
       "      <td>AFG</td>\n",
       "      <td>2013</td>\n",
       "      <td>40.4</td>\n",
       "      <td>24.6</td>\n",
       "      <td>9.5</td>\n",
       "    </tr>\n",
       "    <tr>\n",
       "      <th>3</th>\n",
       "      <td>Afghanistan</td>\n",
       "      <td>AFG</td>\n",
       "      <td>2018</td>\n",
       "      <td>38.2</td>\n",
       "      <td>19.1</td>\n",
       "      <td>5.1</td>\n",
       "    </tr>\n",
       "    <tr>\n",
       "      <th>4</th>\n",
       "      <td>Albania</td>\n",
       "      <td>ALB</td>\n",
       "      <td>1997</td>\n",
       "      <td>20.4</td>\n",
       "      <td>7.1</td>\n",
       "      <td>8.1</td>\n",
       "    </tr>\n",
       "  </tbody>\n",
       "</table>\n",
       "</div>"
      ],
      "text/plain": [
       "        Entity Code  Year  \\\n",
       "0  Afghanistan  AFG  1997   \n",
       "1  Afghanistan  AFG  2004   \n",
       "2  Afghanistan  AFG  2013   \n",
       "3  Afghanistan  AFG  2018   \n",
       "4      Albania  ALB  1997   \n",
       "\n",
       "   Prevalence of stunting, height for age (% of children under 5)  \\\n",
       "0                                               53.2                \n",
       "1                                               59.3                \n",
       "2                                               40.4                \n",
       "3                                               38.2                \n",
       "4                                               20.4                \n",
       "\n",
       "   Prevalence of underweight, weight for age (% of children under 5)  \\\n",
       "0                                               44.9                   \n",
       "1                                               32.9                   \n",
       "2                                               24.6                   \n",
       "3                                               19.1                   \n",
       "4                                                7.1                   \n",
       "\n",
       "   Prevalence of wasting, weight for height (% of children under 5)  \n",
       "0                                               18.2                 \n",
       "1                                                8.6                 \n",
       "2                                                9.5                 \n",
       "3                                                5.1                 \n",
       "4                                                8.1                 "
      ]
     },
     "metadata": {},
     "output_type": "display_data"
    },
    {
     "data": {
      "text/html": [
       "<div>\n",
       "<style scoped>\n",
       "    .dataframe tbody tr th:only-of-type {\n",
       "        vertical-align: middle;\n",
       "    }\n",
       "\n",
       "    .dataframe tbody tr th {\n",
       "        vertical-align: top;\n",
       "    }\n",
       "\n",
       "    .dataframe thead th {\n",
       "        text-align: right;\n",
       "    }\n",
       "</style>\n",
       "<table border=\"1\" class=\"dataframe\">\n",
       "  <thead>\n",
       "    <tr style=\"text-align: right;\">\n",
       "      <th></th>\n",
       "      <th>Entity</th>\n",
       "      <th>Code</th>\n",
       "      <th>Year</th>\n",
       "      <th>Prevalence of stunting, height for age (% of children under 5)</th>\n",
       "      <th>Prevalence of underweight, weight for age (% of children under 5)</th>\n",
       "      <th>Prevalence of wasting, weight for height (% of children under 5)</th>\n",
       "    </tr>\n",
       "  </thead>\n",
       "  <tbody>\n",
       "    <tr>\n",
       "      <th>912</th>\n",
       "      <td>Zimbabwe</td>\n",
       "      <td>ZWE</td>\n",
       "      <td>2009</td>\n",
       "      <td>35.1</td>\n",
       "      <td>11.7</td>\n",
       "      <td>2.4</td>\n",
       "    </tr>\n",
       "    <tr>\n",
       "      <th>913</th>\n",
       "      <td>Zimbabwe</td>\n",
       "      <td>ZWE</td>\n",
       "      <td>2010</td>\n",
       "      <td>32.2</td>\n",
       "      <td>10.2</td>\n",
       "      <td>3.2</td>\n",
       "    </tr>\n",
       "    <tr>\n",
       "      <th>914</th>\n",
       "      <td>Zimbabwe</td>\n",
       "      <td>ZWE</td>\n",
       "      <td>2014</td>\n",
       "      <td>27.6</td>\n",
       "      <td>11.2</td>\n",
       "      <td>3.2</td>\n",
       "    </tr>\n",
       "    <tr>\n",
       "      <th>915</th>\n",
       "      <td>Zimbabwe</td>\n",
       "      <td>ZWE</td>\n",
       "      <td>2015</td>\n",
       "      <td>27.1</td>\n",
       "      <td>8.5</td>\n",
       "      <td>3.3</td>\n",
       "    </tr>\n",
       "    <tr>\n",
       "      <th>916</th>\n",
       "      <td>Zimbabwe</td>\n",
       "      <td>ZWE</td>\n",
       "      <td>2019</td>\n",
       "      <td>23.5</td>\n",
       "      <td>9.7</td>\n",
       "      <td>2.9</td>\n",
       "    </tr>\n",
       "  </tbody>\n",
       "</table>\n",
       "</div>"
      ],
      "text/plain": [
       "       Entity Code  Year  \\\n",
       "912  Zimbabwe  ZWE  2009   \n",
       "913  Zimbabwe  ZWE  2010   \n",
       "914  Zimbabwe  ZWE  2014   \n",
       "915  Zimbabwe  ZWE  2015   \n",
       "916  Zimbabwe  ZWE  2019   \n",
       "\n",
       "     Prevalence of stunting, height for age (% of children under 5)  \\\n",
       "912                                               35.1                \n",
       "913                                               32.2                \n",
       "914                                               27.6                \n",
       "915                                               27.1                \n",
       "916                                               23.5                \n",
       "\n",
       "     Prevalence of underweight, weight for age (% of children under 5)  \\\n",
       "912                                               11.7                   \n",
       "913                                               10.2                   \n",
       "914                                               11.2                   \n",
       "915                                                8.5                   \n",
       "916                                                9.7                   \n",
       "\n",
       "     Prevalence of wasting, weight for height (% of children under 5)  \n",
       "912                                                2.4                 \n",
       "913                                                3.2                 \n",
       "914                                                3.2                 \n",
       "915                                                3.3                 \n",
       "916                                                2.9                 "
      ]
     },
     "metadata": {},
     "output_type": "display_data"
    },
    {
     "data": {
      "text/plain": [
       "(None, None)"
      ]
     },
     "execution_count": 6,
     "metadata": {},
     "output_type": "execute_result"
    }
   ],
   "source": [
    "display(child_malnutrition.head()), display(child_malnutrition.tail())"
   ]
  },
  {
   "cell_type": "markdown",
   "id": "06afd5b8-c094-4433-a48e-528829bf0198",
   "metadata": {},
   "source": [
    "### Renaming the Pandas DataFrame Columns of our Dataset"
   ]
  },
  {
   "cell_type": "code",
   "execution_count": 7,
   "id": "b12ed35a-4011-4587-849f-755e7ceabbcc",
   "metadata": {},
   "outputs": [],
   "source": [
    "child_malnutrition.columns = ['Entity', 'Code', 'Year', 'stunting_height_for_age', 'underweight_weight_for_age', 'wasting_weight_for_height']"
   ]
  },
  {
   "cell_type": "code",
   "execution_count": 8,
   "id": "db355c26-8bb5-4b93-baf2-f64924a1436a",
   "metadata": {},
   "outputs": [
    {
     "data": {
      "text/plain": [
       "Index(['Entity', 'Code', 'Year', 'stunting_height_for_age',\n",
       "       'underweight_weight_for_age', 'wasting_weight_for_height'],\n",
       "      dtype='object')"
      ]
     },
     "execution_count": 8,
     "metadata": {},
     "output_type": "execute_result"
    }
   ],
   "source": [
    "child_malnutrition.columns"
   ]
  },
  {
   "cell_type": "markdown",
   "id": "46d9c944-3093-4e4f-b99e-ada702c4e332",
   "metadata": {},
   "source": [
    "### Creating Data Structure for the Database"
   ]
  },
  {
   "cell_type": "code",
   "execution_count": 9,
   "id": "8b8535b1-1ce1-4263-8429-420dbdc56f2c",
   "metadata": {},
   "outputs": [],
   "source": [
    "child_mal_tbl = (\n",
    "    \"\"\"CREATE TABLE IF NOT EXISTS child_malnutrition(\n",
    "        Entity VARCHAR (150) NOT NULL,\n",
    "        Code VARCHAR (3) NOT NULL,\n",
    "        Year INT NOT NULL,\n",
    "        stunting_height_for_age DECIMAL (10) NOT NULL,\n",
    "        underweight_weight_for_age DECIMAL (10) NOT NULL,\n",
    "        wasting_weight_for_height DECIMAL (10) NOT NULL\n",
    "    )\"\"\"\n",
    ")"
   ]
  },
  {
   "cell_type": "markdown",
   "id": "d1fe233d-9f20-43bf-a568-bb91e3abb992",
   "metadata": {},
   "source": [
    "### Passing the Data Structure as parameter to the Cursor's execute function"
   ]
  },
  {
   "cell_type": "code",
   "execution_count": 10,
   "id": "79ad7c06-a1f7-4d6f-9b99-81286c6a102e",
   "metadata": {},
   "outputs": [],
   "source": [
    "cur.execute(child_mal_tbl)\n",
    "conn.commit()"
   ]
  },
  {
   "cell_type": "markdown",
   "id": "f73e59b2-e9f1-45be-b404-917b026983a2",
   "metadata": {},
   "source": [
    "### Inserting Data from the DataFrame into the SQL Table"
   ]
  },
  {
   "cell_type": "code",
   "execution_count": 11,
   "id": "ebe58761-f8ee-4e5b-b549-7a0e2fec2080",
   "metadata": {},
   "outputs": [],
   "source": [
    "child_mal_val = (\n",
    "    \"\"\"INSERT INTO child_malnutrition(\n",
    "    Entity,\n",
    "    Code,\n",
    "    Year,\n",
    "    stunting_height_for_age,\n",
    "    underweight_weight_for_age,\n",
    "    wasting_weight_for_height) \n",
    "    VALUES(%s, %s, %s, %s, %s, %s)\n",
    "    \"\"\"\n",
    ")"
   ]
  },
  {
   "cell_type": "markdown",
   "id": "758afadc-7fa3-4232-8103-351531e7f47f",
   "metadata": {},
   "source": [
    "### Passing the values as parameter to the `execute` function"
   ]
  },
  {
   "cell_type": "code",
   "execution_count": 13,
   "id": "be925c76-9ef4-44a4-8db4-dbc2e9a29f63",
   "metadata": {},
   "outputs": [],
   "source": [
    "for i, row in child_malnutrition.iterrows():\n",
    "    cur.execute(child_mal_val, list(row))\n",
    "conn.commit()"
   ]
  },
  {
   "cell_type": "markdown",
   "id": "7963c8f6-2afd-45b0-b22e-c1433f66b1f8",
   "metadata": {},
   "source": [
    "### Closing the Cursor and Terminating the Connection to the Database"
   ]
  },
  {
   "cell_type": "code",
   "execution_count": 14,
   "id": "7a45e84d-b0eb-4b6f-8d37-fb56315a7217",
   "metadata": {},
   "outputs": [],
   "source": [
    "try:\n",
    "    cur.close()\n",
    "    conn.close()\n",
    "except pg.Error as e:\n",
    "    print(f\"\\n{e}\\nERROR: Could not close cursor or the connection to the Database\\n\")"
   ]
  },
  {
   "cell_type": "code",
   "execution_count": null,
   "id": "fcc3e890-7dc1-4130-a1fc-b3a4fa43873a",
   "metadata": {},
   "outputs": [],
   "source": []
  }
 ],
 "metadata": {
  "kernelspec": {
   "display_name": "Python 3 (ipykernel)",
   "language": "python",
   "name": "python3"
  },
  "language_info": {
   "codemirror_mode": {
    "name": "ipython",
    "version": 3
   },
   "file_extension": ".py",
   "mimetype": "text/x-python",
   "name": "python",
   "nbconvert_exporter": "python",
   "pygments_lexer": "ipython3",
   "version": "3.9.7"
  }
 },
 "nbformat": 4,
 "nbformat_minor": 5
}
